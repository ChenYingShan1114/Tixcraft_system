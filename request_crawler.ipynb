{
 "cells": [
  {
   "cell_type": "code",
   "execution_count": 85,
   "metadata": {},
   "outputs": [
    {
     "name": "stdout",
     "output_type": "stream",
     "text": [
      "login!!\n"
     ]
    }
   ],
   "source": [
    "#time delay要考慮系統塞車問題\n",
    "#搜尋改成搜尋關鍵字給使用者輸入\n",
    "\n",
    "import requests\n",
    "from bs4 import BeautifulSoup as bs\n",
    "from seleniumwire import webdriver\n",
    "from selenium.webdriver.common.by import By\n",
    "import time\n",
    "import re\n",
    "import json\n",
    "\n",
    "account = 'cindy1999881114@gmail.com'\n",
    "password = 'chenyingshan19991114'\n",
    "activity_page = 'https://tixcraft.com/activity/detail/23_tvl'\n",
    "\n",
    "def login(acc, pwd):\n",
    "    driver = webdriver.Chrome()\n",
    "    driver.get(activity_page)\n",
    "\n",
    "    #driver.find_element_by_xpath('//*[@id=\"onetrust-accept-btn-handler\"]').click()\n",
    "    #driver.implicitly_wait(1)\n",
    "    driver.find_element(By.XPATH, '//*[@id=\"bs-navbar\"]/div/div[2]/ul[3]/li/a/span').click()\n",
    "    time.sleep(0.2)\n",
    "    driver.find_element(By.XPATH, '//*[@id=\"facebook\"]').click()\n",
    "\n",
    "    #time.sleep(1)\n",
    "    acc_driver = driver.find_element(By.XPATH, '//*[@id=\"email\"]')\n",
    "    acc_driver.clear()\n",
    "    acc_driver.send_keys(acc)\n",
    "    pwd_driver = driver.find_element(By.XPATH, '//*[@id=\"pass\"]')\n",
    "    pwd_driver.clear()\n",
    "    pwd_driver.send_keys(pwd)\n",
    "    driver.find_element(By.XPATH, '//*[@id=\"loginbutton\"]').click()\n",
    "\n",
    "    return driver\n",
    "\n",
    "driver = login(account, password)\n",
    "driver.refresh()\n",
    "\n",
    "for request in driver.requests:\n",
    "  if (request.url == activity_page and request.headers['sec-fetch-site'] == 'cross-site'):\n",
    "    activity_link = request.url  # Request url\n",
    "    activity_header = dict(request.headers)  # Request headers\n",
    "    print('login!!')\n",
    "#driver.quit()\n",
    "\n",
    "session_requests = requests.session()\n",
    "response = session_requests.request(\"GET\", url = activity_link, headers = activity_header)\n",
    "soup = bs(response.text, 'html.parser')\n"
   ]
  },
  {
   "cell_type": "code",
   "execution_count": 79,
   "metadata": {},
   "outputs": [
    {
     "name": "stdout",
     "output_type": "stream",
     "text": [
      "你選擇的是搶這個活動的票:https://tixcraft.com/activity/detail/23_tvl\n",
      "進這個網站選場次:https://tixcraft.com/activity/game/23_tvl\n",
      "進這個網站選位置:https://tixcraft.com/ticket/area/23_tvl/15291\n",
      "進這個網站選張數:https://tixcraft.com/ticket/ticket/23_tvl/15291/1/25\n"
     ]
    }
   ],
   "source": [
    "\n",
    "print('你選擇的是搶這個活動的票:' + activity_link)\n",
    "# Activity page\n",
    "#response = session_requests.request(\"GET\", url = request.url, headers = request.headers)\n",
    "#soup = bs(response.text, 'html.parser')\n",
    "link = soup.find_all('li', class_='buy')\n",
    "#print(soup)\n",
    "buy_now = 'https://tixcraft.com' + link[0].a.get(\"href\")\n",
    "print('進這個網站選場次:' + buy_now)\n",
    "\n",
    "# Choose events page\n",
    "find_tickets = ''\n",
    "response = session_requests.request(\"GET\", url = buy_now)\n",
    "soup = bs(response.text, 'html.parser')\n",
    "link_list = soup.find_all('tbody')\n",
    "links = link_list[0].find_all('tr')\n",
    "links_length = len(links)\n",
    "links_index = 0\n",
    "while (find_tickets == '' and links_index < links_length): #目前這個條件式，會選擇第一個仍有票的button\n",
    "    tds = links[links_index].find_all('td')\n",
    "    event_date = tds[0].text\n",
    "    button = tds[3].find_all('button')\n",
    "    #print(links[links_index].get('data-key'))\n",
    "    if button != []:\n",
    "        find_tickets = button[0].get('data-href')\n",
    "    else:\n",
    "        #print(tds[3].text)\n",
    "        links_index += 1\n",
    "if (links_index == links_length):\n",
    "    print('每個場次都賣光了')\n",
    "print('進這個網站選位置:' + find_tickets)\n",
    "\n",
    "# Choose seats page\n",
    "response = session_requests.request(\"GET\", url = find_tickets)\n",
    "soup = bs(response.text, 'html.parser')\n",
    "\n",
    "# Use json to load area link\n",
    "script = soup.find_all('script', text=re.compile('areaUrlList'))[0].text\n",
    "data = re.search('areaUrlList = (.*);', script).group(1)\n",
    "json_data = json.loads(data)\n",
    "\n",
    "zone_area_lists = soup.find_all('div', class_ = 'zone area-list')\n",
    "for zone_area_list in zone_area_lists:\n",
    "    area_lists = zone_area_list.find_all('ul', class_ = 'area-list')\n",
    "    for area_list in area_lists:\n",
    "        seats = area_list.find_all('a')\n",
    "        for seat in seats:\n",
    "            id = seat.get('id')\n",
    "            seat_name = seat.text\n",
    "            seat_link = json_data[id]\n",
    "\n",
    "seat_link = json_data[area_lists[0].find_all('a')[0].get('id')]\n",
    "print('進這個網站選張數:' + seat_link)\n",
    "# Select tickets\n",
    "            \n"
   ]
  },
  {
   "cell_type": "code",
   "execution_count": 80,
   "metadata": {},
   "outputs": [
    {
     "name": "stdout",
     "output_type": "stream",
     "text": [
      "https://tixcraft.com/ticket/captcha?v=65c330ee94df55.88676676\n",
      "{'_csrf': 'DHHkHjxq6Zpft-XD6Nf4FzioJIyj_uoz3z58Ofic9Hw7JJdWST2rymvBiJfbjbl1fv5HxNOhr0GYT0VRzN2xHg==', 'TicketForm[ticketPrice][02]': 1, 'TicketForm[priceSize][02]': '1', 'TicketForm[ticketPrice][03]': 1, 'TicketForm[priceSize][03]': '1', 'TicketForm[ticketPrice][04]': 1, 'TicketForm[priceSize][04]': '1', 'TicketForm[ticketPrice][05]': 1, 'TicketForm[priceSize][05]': '1', 'TicketForm[verifyCode]': '0000', 'TicketForm[agree]': '1'}\n"
     ]
    }
   ],
   "source": [
    "response = session_requests.request(\"GET\", url = seat_link)\n",
    "soup = bs(response.text, 'html.parser')\n",
    "\n",
    "payload = {}\n",
    "# get csrf\n",
    "csrf_name = soup.find('head').find('meta', attrs={'name': 'csrf-param'})['content']\n",
    "csrf_token = soup.find('head').find('meta', attrs={'name': 'csrf-token'})['content']\n",
    "payload[csrf_name] = csrf_token\n",
    "\n",
    "# get tickets\n",
    "ticket_price_list = soup.find('table', id = 'ticketPriceList').find('tbody').find_all('tr')\n",
    "for ticket_price in ticket_price_list:\n",
    "    payload[ticket_price.find('select')['name']] = 1\n",
    "    payload[ticket_price.find('input')['name']] = ticket_price.find('input')['value']\n",
    "\n",
    "# get verification code\n",
    "verify_url = soup.find('div', class_='row mgt-32 mb-2').find('img')['src']\n",
    "verify_name = soup.find('div', class_='row mgt-32 mb-2').find('input')['name']\n",
    "verify_code = '0000'\n",
    "payload[verify_name] = verify_code\n",
    "\n",
    "# get agree\n",
    "agree_name = soup.find('div', class_='form-check col-lg-12 col-md-12 col-sm-12 col-xs-12 col-12').find('input')['name']\n",
    "agree_value = soup.find('div', class_='form-check col-lg-12 col-md-12 col-sm-12 col-xs-12 col-12').find('input')['value']\n",
    "payload[agree_name] = agree_value\n",
    "                          \n",
    "print('https://tixcraft.com' + verify_url)\n",
    "\n",
    "# payload\n",
    "print(payload)"
   ]
  },
  {
   "cell_type": "code",
   "execution_count": 81,
   "metadata": {},
   "outputs": [
    {
     "name": "stdout",
     "output_type": "stream",
     "text": [
      "\n"
     ]
    }
   ],
   "source": [
    "from PIL import Image\n",
    "import pytesseract\n",
    "\n",
    "url = 'https://tixcraft.com' + verify_url\n",
    "response = session_requests.get(url).content\n",
    "with open('test.png','wb') as f:\n",
    "    f.write(response)\n",
    "f.close()\n",
    "img = Image.open('test.png')\n",
    "\n",
    "pytesseract.pytesseract.tesseract_cmd = r'/Users/yingshanchen/miniconda3/envs/crawler/bin/tesseract'\n",
    "text = pytesseract.image_to_string(img, lang='eng')\n",
    "img.show()\n",
    "print(text)"
   ]
  },
  {
   "cell_type": "code",
   "execution_count": 22,
   "metadata": {},
   "outputs": [
    {
     "name": "stdout",
     "output_type": "stream",
     "text": [
      "欢迎使用ddddocr，本项目专注带动行业内卷，个人博客:wenanzhe.com\n",
      "训练数据支持来源于:http://146.56.204.113:19199/preview\n",
      "爬虫框架feapder可快速一键接入，快速开启爬虫之旅：https://github.com/Boris-code/feapder\n",
      "谷歌reCaptcha验证码 / hCaptcha验证码 / funCaptcha验证码商业级识别接口：https://yescaptcha.com/i/NSwk7i\n",
      "zeto\n"
     ]
    },
    {
     "data": {
      "text/plain": [
       "'\\npayload = {\\n    \\'_csrf\\': \\'_-b5d9XcDKVOAFvZBcKdIjxnKi68wwq7NPW0nPfj9pyRhMsUmoNh63d5MbRhg95DfhNce8-HbY1Zr-TwoYyp2g==\\',\\n    \\'TicketForm[ticketPrice][02]\\': \\'1\\',\\n    \\'TicketForm[priceSize][02]\\': \\'1\\',\\n    \\'TicketForm[ticketPrice][03]\\': \\'0\\',\\n    \\'TicketForm[priceSize][03]\\': \\'1\\',\\n    \\'TicketForm[ticketPrice][04]\\': \\'1\\',\\n    \\'TicketForm[priceSize][04]\\': \\'1\\',\\n    \\'TicketForm[ticketPrice][05]\\': \\'2\\',\\n    \\'TicketForm[priceSize][05]\\': \\'1\\',\\n    \\'TicketForm[verifyCode]\\': \\'liwa\\',\\n    \\'TicketForm[agree]\\': \\'1\\'\\n}\\nresponse = requests.request(\"POST\", url = seat_link, params= payload)\\n'"
      ]
     },
     "execution_count": 22,
     "metadata": {},
     "output_type": "execute_result"
    }
   ],
   "source": [
    "from ddddocr import DdddOcr\n",
    "with open('test.png', 'rb') as f:\n",
    "    ima_bytes = f.read()\n",
    "\n",
    "res = DdddOcr().classification(ima_bytes)\n",
    "print(res)"
   ]
  },
  {
   "cell_type": "code",
   "execution_count": 82,
   "metadata": {},
   "outputs": [
    {
     "name": "stdout",
     "output_type": "stream",
     "text": [
      "{'cache-control': 'max-age=0', 'sec-ch-ua': '\"Not A(Brand\";v=\"99\", \"Google Chrome\";v=\"121\", \"Chromium\";v=\"121\"', 'sec-ch-ua-mobile': '?0', 'sec-ch-ua-platform': '\"macOS\"', 'upgrade-insecure-requests': '1', 'user-agent': 'Mozilla/5.0 (Macintosh; Intel Mac OS X 10_15_7) AppleWebKit/537.36 (KHTML, like Gecko) Chrome/121.0.0.0 Safari/537.36', 'accept': 'text/html,application/xhtml+xml,application/xml;q=0.9,image/avif,image/webp,image/apng,*/*;q=0.8,application/signed-exchange;v=b3;q=0.7', 'sec-fetch-site': 'cross-site', 'sec-fetch-mode': 'navigate', 'sec-fetch-user': '?1', 'sec-fetch-dest': 'document', 'referer': 'https://www.facebook.com/', 'accept-encoding': 'gzip, deflate, br', 'accept-language': 'en-US,en;q=0.9', 'cookie': 'tagHash=; _ga=GA1.1.1462290921.1707290827; SID=lrlid4dp9bjteqhlm0hideke4h; _csrf=e8a41d5bd28582c9094d5f93eee741de7d70b4d9ff08eb43c512351a09238492a%3A2%3A%7Bi%3A0%3Bs%3A5%3A%22_csrf%22%3Bi%3A1%3Bs%3A32%3A%22TgtRqp463U8SkyOgEKh1HXsbEG0nQjbd%22%3B%7D; _ga_C3KRPGTSF6=GS1.1.1707290826.1.1.1707290843.0.0.0; OptanonConsent=isGpcEnabled=0&datestamp=Wed+Feb+07+2024+15%3A27%3A26+GMT%2B0800+(Taipei+Standard+Time)&version=202309.1.0&browserGpcFlag=0&isIABGlobal=false&hosts=&consentId=9dbee1fd-1822-4cf7-8f1a-32fddebdc06f&interactionCount=1&landingPath=NotLandingPage&groups=C0001%3A1%2CC0003%3A0%2CC0002%3A0%2CC0004%3A0&AwaitingReconsent=false'}\n",
      "{'_csrf': 'DHHkHjxq6Zpft-XD6Nf4FzioJIyj_uoz3z58Ofic9Hw7JJdWST2rymvBiJfbjbl1fv5HxNOhr0GYT0VRzN2xHg==', 'TicketForm[ticketPrice][02]': 1, 'TicketForm[priceSize][02]': '1', 'TicketForm[ticketPrice][03]': 1, 'TicketForm[priceSize][03]': '1', 'TicketForm[ticketPrice][04]': 1, 'TicketForm[priceSize][04]': '1', 'TicketForm[ticketPrice][05]': 1, 'TicketForm[priceSize][05]': '1', 'TicketForm[verifyCode]': 'diyu', 'TicketForm[agree]': '1'}\n",
      "{'cache-control': 'max-age=0', 'sec-ch-ua': '\"Not A(Brand\";v=\"99\", \"Google Chrome\";v=\"121\", \"Chromium\";v=\"121\"', 'sec-ch-ua-mobile': '?0', 'sec-ch-ua-platform': '\"macOS\"', 'upgrade-insecure-requests': '1', 'user-agent': 'Mozilla/5.0 (Macintosh; Intel Mac OS X 10_15_7) AppleWebKit/537.36 (KHTML, like Gecko) Chrome/121.0.0.0 Safari/537.36', 'accept': 'text/html,application/xhtml+xml,application/xml;q=0.9,image/avif,image/webp,image/apng,*/*;q=0.8,application/signed-exchange;v=b3;q=0.7', 'sec-fetch-site': 'same-origin', 'sec-fetch-mode': 'navigate', 'sec-fetch-user': '?1', 'sec-fetch-dest': 'document', 'referer': 'https://tixcraft.com/ticket/ticket/23_tvl/15291/1/25', 'accept-encoding': 'gzip, deflate, br', 'accept-language': 'en-US,en;q=0.9', 'cookie': 'tagHash=; _ga=GA1.1.1462290921.1707290827; SID=lrlid4dp9bjteqhlm0hideke4h; _csrf=e8a41d5bd28582c9094d5f93eee741de7d70b4d9ff08eb43c512351a09238492a%3A2%3A%7Bi%3A0%3Bs%3A5%3A%22_csrf%22%3Bi%3A1%3Bs%3A32%3A%22TgtRqp463U8SkyOgEKh1HXsbEG0nQjbd%22%3B%7D; _ga_C3KRPGTSF6=GS1.1.1707290826.1.1.1707290843.0.0.0; OptanonConsent=isGpcEnabled=0&datestamp=Wed+Feb+07+2024+15%3A27%3A26+GMT%2B0800+(Taipei+Standard+Time)&version=202309.1.0&browserGpcFlag=0&isIABGlobal=false&hosts=&consentId=9dbee1fd-1822-4cf7-8f1a-32fddebdc06f&interactionCount=1&landingPath=NotLandingPage&groups=C0001%3A1%2CC0003%3A0%2CC0002%3A0%2CC0004%3A0&AwaitingReconsent=false', 'origin': 'http://tixcraft.com', 'content-length': '450', 'content-type': 'application/x-www-form-urlencode'}\n",
      "move\n"
     ]
    }
   ],
   "source": [
    "print(activity_header)\n",
    "payload[verify_name] = 'diyu'#text\n",
    "\n",
    "'''\n",
    "payload format\n",
    "payload = {\n",
    "    '_csrf': '_-b5d9XcDKVOAFvZBcKdIjxnKi68wwq7NPW0nPfj9pyRhMsUmoNh63d5MbRhg95DfhNce8-HbY1Zr-TwoYyp2g==',\n",
    "    'TicketForm[ticketPrice][02]': '1',\n",
    "    'TicketForm[priceSize][02]': '1',\n",
    "    'TicketForm[ticketPrice][03]': '0',\n",
    "    'TicketForm[priceSize][03]': '1',\n",
    "    'TicketForm[ticketPrice][04]': '1',\n",
    "    'TicketForm[priceSize][04]': '1',\n",
    "    'TicketForm[ticketPrice][05]': '2',\n",
    "    'TicketForm[priceSize][05]': '1',\n",
    "    'TicketForm[verifyCode]': 'liwa',\n",
    "    'TicketForm[agree]': '1'\n",
    "}\n",
    "'''\n",
    "\n",
    "# payload\n",
    "print(payload)\n",
    "activity_header['sec-fetch-site'] = 'same-origin'\n",
    "activity_header['referer'] = seat_link\n",
    "activity_header['origin'] = 'http://tixcraft.com'\n",
    "activity_header['content-length'] = '450'\n",
    "activity_header['content-type'] = 'application/x-www-form-urlencode'\n",
    "print(activity_header)\n",
    "response = session_requests.request(\"POST\", url = seat_link, headers = activity_header, data = payload)\n",
    "#print(response.text)\n",
    "if response.status_code == 200:\n",
    "    print('move')\n",
    "if response.status_code == 301:\n",
    "    print('moved')\n",
    "response = session_requests.request(\"GET\", url = 'https://tixcraft.com/ticket/order', headers = activity_header, allow_redirects=False)\n",
    "if response.status_code == 200:\n",
    "    print('ordering')\n",
    "\n",
    "activity_header['referer'] = 'https://tixcraft.com/ticket/order'\n",
    "response = session_requests.request(\"GET\", url = 'https://tixcraft.com/ticket/checkout', headers =  activity_header)\n",
    "if response.status_code == 200:\n",
    "    print('check')"
   ]
  },
  {
   "cell_type": "code",
   "execution_count": null,
   "metadata": {},
   "outputs": [],
   "source": []
  }
 ],
 "metadata": {
  "kernelspec": {
   "display_name": "crawler",
   "language": "python",
   "name": "python3"
  },
  "language_info": {
   "codemirror_mode": {
    "name": "ipython",
    "version": 3
   },
   "file_extension": ".py",
   "mimetype": "text/x-python",
   "name": "python",
   "nbconvert_exporter": "python",
   "pygments_lexer": "ipython3",
   "version": "3.7.12"
  }
 },
 "nbformat": 4,
 "nbformat_minor": 2
}
