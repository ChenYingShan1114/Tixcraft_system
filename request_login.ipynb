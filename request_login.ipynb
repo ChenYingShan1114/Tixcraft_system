{
 "cells": [
  {
   "cell_type": "code",
   "execution_count": null,
   "metadata": {},
   "outputs": [],
   "source": [
    "import requests\n",
    "from bs4 import BeautifulSoup as bs\n",
    "\n",
    "# no login\n",
    "import requests\n",
    "from bs4 import BeautifulSoup as bs\n",
    "headers = {\n",
    "    'Accept': 'text/html,application/xhtml+xml,application/xml;q=0.9,image/avif,image/webp,image/apng,*/*;q=0.8,application/signed-exchange;v=b3;q=0.7',\n",
    "    'Accept-Encoding': 'gzip, deflate, br',\n",
    "    'Accept-Language': 'en-US,en;q=0.9',\n",
    "    'Cache-Control': 'max-age=0',\n",
    "    'Cookie': 'tagHash=; SID=rvqr5q7ji20d0hg4a6nisr6rg6; _csrf=e58b4f05db93c9ecf514b94d9c37a0269dd4404aa238d9cefd81fcc6e7f65fa2a%3A2%3A%7Bi%3A0%3Bs%3A5%3A%22_csrf%22%3Bi%3A1%3Bs%3A32%3A%22xvxafJ6N03Nb0c4agJoe-ppL-rFvmDW6%22%3B%7D; OptanonAlertBoxClosed=2024-02-03T17:34:58.934Z; _gid=GA1.2.1251438565.1706981699; __gads=ID=667b0780c89804be:T=1706981699:RT=1706989412:S=ALNI_Ma2X4ccadhEVfkYEJgmxDjpMcX79Q; __gpi=UID=00000cf7b3ba77ce:T=1706981699:RT=1706989412:S=ALNI_Mbb-dd3KtYM-eYXbnjHGEC3CL7XzQ; __eoi=ID=b236fbf4046b42be:T=1706981699:RT=1706989412:S=AA-AfjaI-PFzvZGr3Za2UEMjPl-d; _ga_C3KRPGTSF6=GS1.1.1707033723.5.1.1707033726.0.0.0; _ga=GA1.2.462461731.1706959491; OptanonConsent=isGpcEnabled=0&datestamp=Sun+Feb+04+2024+16%3A02%3A07+GMT%2B0800+(Taipei+Standard+Time)&version=202309.1.0&browserGpcFlag=0&isIABGlobal=false&hosts=&consentId=197a917a-500a-4afe-8fc2-fa65fc5d4aba&interactionCount=2&landingPath=NotLandingPage&groups=C0001%3A1%2CC0003%3A1%2CC0002%3A1%2CC0004%3A1&AwaitingReconsent=false&geolocation=TW%3BTAO',\n",
    "    'Dnt': '1',\n",
    "    'Sec-Ch-Ua': '\"Chromium\";v=\"121\", \"Not A(Brand\";v=\"99\"',\n",
    "    'Sec-Ch-Ua-Mobile': '?0',\n",
    "    'Sec-Ch-Ua-Platform': '\"macOS\"',\n",
    "    'Sec-Fetch-Dest': 'document',\n",
    "    'Sec-Fetch-Mode': 'navigate',\n",
    "    'Sec-Fetch-Site': 'none',\n",
    "    'Sec-Fetch-User': '?1',\n",
    "    'Upgrade-Insecure-Requests': '1',\n",
    "    'User-Agent': 'Mozilla/5.0 (Macintosh; Intel Mac OS X 10_15_7) AppleWebKit/537.36 (KHTML, like Gecko) Chrome/121.0.0.0 Safari/537.36'\n",
    "}\n",
    "\n",
    "response = requests.get(url = 'https://tixcraft.com/activity/detail/23_tvl#_=_', headers = headers)\n",
    "soup = bs(response.text, 'html.parser')\n",
    "login_state = soup.find_all('ul', class_='nav-info')\n",
    "print(login_state)\n"
   ]
  },
  {
   "cell_type": "code",
   "execution_count": 1,
   "metadata": {},
   "outputs": [
    {
     "name": "stdout",
     "output_type": "stream",
     "text": [
      "<class 'dict'>\n",
      "[<ul class=\"nav-info searchContainer\">\n",
      "<li class=\"searchBox\">\n",
      "<div class=\"input-group\">\n",
      "<input aria-describedby=\"basic-addon2\" class=\"search-input\" id=\"txt_search\" placeholder=\"Search by Event\" type=\"text\"/>\n",
      "<div class=\"input-group-append\">\n",
      "<button class=\"clearSearch\" type=\"reset\">\n",
      "<svg aria-hidden=\"true\" class=\"staticMode\" focusable=\"false\" height=\"1em\" viewbox=\"0 0 24 24\" width=\"1em\">\n",
      "<path d=\"M12 1C5.95 1 1 5.95 1 12s4.95 11 11 11 11-4.95 11-11S18.05 1 12 1zm4.8 13.9l-1.9 1.9-2.9-2.88-2.9 2.89-1.9-1.92L10.07 12 7.2 9.1l1.92-1.9L12 10.07l2.9-2.89 1.9 1.92-2.87 2.9 2.89 2.9z\"></path>\n",
      "</svg>\n",
      "<span class=\"sc-1b3hien-4 eJlxQm\">Clear</span>\n",
      "</button>\n",
      "<button class=\"search-btn\" data-href=\"/activity\" type=\"button\"><svg aria-hidden=\"true\" focusable=\"false\" height=\"1.5em\" viewbox=\"0 0 24 24\" width=\"1.5em\"><path d=\"M15.56 14.35l5.19 5.19a.86.86 0 01-1.21 1.2l-5.2-5.18a7.02 7.02 0 111.22-1.21zm-.23-4.33a5.31 5.31 0 10-10.62 0 5.31 5.31 0 0010.62 0z\"></path></svg></button>\n",
      "</div>\n",
      "<div class=\"searchResultBox\">\n",
      "<h4 class=\"searchTitle\">Search suggestions</h4>\n",
      "<ul class=\"whiteBox\" id=\"searchResult\" role=\"listbox\">\n",
      "</ul>\n",
      "</div>\n",
      "</div>\n",
      "</li>\n",
      "</ul>, <ul class=\"nav-info\">\n",
      "<li class=\"account-login text-center dropdown d-nonex\">\n",
      "<a class=\"user-name justify-content-center\" href=\"#\">\n",
      "<svg aria-hidden=\"true\" focusable=\"false\" height=\"24px\" viewbox=\"0 0 24 24\" width=\"24px\">\n",
      "<path d=\"M12 2a10 10 0 1010 10A10 10 0 0012 2zm0 18.7a8.7 8.7 0 01-5.62-2.06l.07-.09c1.19-1.48 2.9-2.12 5.55-2.12s4.38.63 5.58 2.09l.07.09A8.66 8.66 0 0112 20.7zm6.51-2.95l-.05-.06C17 16 14.87 15.16 12 15.16S7 16 5.53 17.69v.06a8.71 8.71 0 1113 0z M12 6a4 4 0 104 4 4 4 0 00-4-4zm0 6.7a2.7 2.7 0 112.7-2.7 2.7 2.7 0 01-2.7 2.7z\" fill=\"#FFFFFF\"></path>\n",
      "</svg>\n",
      "<span>My Account</span>\n",
      "</a>\n",
      "<div id=\"accountFunc\">\n",
      "<div>陳盈珊</div> <div><a class=\"\" href=\"https://tixcraft.com/user\">My Profile</a></div> <div><a class=\"en\" href=\"https://tixcraft.com/order\">My Tickets</a></div> <hr/>\n",
      "<div><a href=\"https://tixcraft.com/login/logout\" id=\"logout\" params='{\"_csrf\":\"Hvx7mi-scDns0MFXT_Ddtk9K0U_2myrkorfosDFG1gtnli7uHO4qU9XmuG9ip5HaAwWWPIzXEpST-oPpeiDgQg==\"}' submit='[\"\\/login\\/logout\"]'>Sign Out<i aria-hidden=\"true\" class=\"fa fa-sign-out\"></i></a></div> </div>\n",
      "</li>\n",
      "</ul>]\n"
     ]
    }
   ],
   "source": [
    "# login\n",
    "import requests\n",
    "from bs4 import BeautifulSoup as bs\n",
    "headers = {\n",
    "    'Accept': 'text/html,application/xhtml+xml,application/xml;q=0.9,image/avif,image/webp,image/apng,*/*;q=0.8,application/signed-exchange;v=b3;q=0.7',\n",
    "    'Accept-Encoding': 'gzip, deflate, br',\n",
    "    'Accept-Language': 'en-US,en;q=0.9',\n",
    "    'Cache-Control': 'max-age=0',\n",
    "    'Cookie': 'tagHash=; OptanonAlertBoxClosed=2024-02-04T06:42:01.694Z; _gid=GA1.2.1386399026.1707028922; SID=oqn8fiaodn85s786jvaa8d5lgo; _csrf=3ca20a1a19832a322a9f2c6a4e9885574a9cd899a46c573cbe6311546f401d64a%3A2%3A%7Bi%3A0%3Bs%3A5%3A%22_csrf%22%3Bi%3A1%3Bs%3A32%3A%22yjUt3BZj96y8-WLlLOGszL8p1MkYKf6I%22%3B%7D; _ga_C3KRPGTSF6=GS1.1.1707028914.1.1.1707028978.0.0.0; _ga=GA1.2.1741526385.1707028915; OptanonConsent=isGpcEnabled=0&datestamp=Sun+Feb+04+2024+14%3A42%3A59+GMT%2B0800+(Taipei+Standard+Time)&version=202309.1.0&browserGpcFlag=0&isIABGlobal=false&hosts=&consentId=c7de5fb2-f8aa-47ed-bf68-da72d5ce977e&interactionCount=1&landingPath=NotLandingPage&groups=C0001%3A1%2CC0003%3A1%2CC0002%3A1%2CC0004%3A1&geolocation=TW%3BHSQ&AwaitingReconsent=false',\n",
    "    'Referer': 'https://www.facebook.com/',\n",
    "    'Sec-Ch-Ua': '\"Not A(Brand\";v=\"99\", \"Google Chrome\";v=\"121\", \"Chromium\";v=\"121\"',\n",
    "    'Sec-Ch-Ua-Mobile': '?0',\n",
    "    'Sec-Ch-Ua-Platform': '\"macOS\"',\n",
    "    'Sec-Fetch-Dest': 'document',\n",
    "    'Sec-Fetch-Mode': 'navigate',\n",
    "    'Sec-Fetch-Site': 'cross-site',\n",
    "    'Sec-Fetch-User': '?1',\n",
    "    'Upgrade-Insecure-Requests': '1',\n",
    "    'User-Agent': 'Mozilla/5.0 (Macintosh; Intel Mac OS X 10_15_7) AppleWebKit/537.36 (KHTML, like Gecko) Chrome/121.0.0.0 Safari/537.36'\n",
    "}\n",
    "\n",
    "print(type(headers))\n",
    "response = requests.get(url = 'https://tixcraft.com/activity/detail/23_tvl#_=_', headers = headers)\n",
    "soup = bs(response.text, 'html.parser')\n",
    "login_state = soup.find_all('ul', class_='nav-info')\n",
    "print(login_state)"
   ]
  },
  {
   "cell_type": "code",
   "execution_count": null,
   "metadata": {},
   "outputs": [],
   "source": []
  }
 ],
 "metadata": {
  "kernelspec": {
   "display_name": "crawler",
   "language": "python",
   "name": "python3"
  },
  "language_info": {
   "codemirror_mode": {
    "name": "ipython",
    "version": 3
   },
   "file_extension": ".py",
   "mimetype": "text/x-python",
   "name": "python",
   "nbconvert_exporter": "python",
   "pygments_lexer": "ipython3",
   "version": "3.7.12"
  }
 },
 "nbformat": 4,
 "nbformat_minor": 2
}
