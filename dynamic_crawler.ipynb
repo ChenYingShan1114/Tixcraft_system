{
 "cells": [
  {
   "cell_type": "code",
   "execution_count": 122,
   "metadata": {},
   "outputs": [],
   "source": [
    "#time delay要考慮系統塞車問題\n",
    "#搜尋改成搜尋關鍵字給使用者輸入\n",
    "\n",
    "from selenium import webdriver\n",
    "import time\n",
    "\n",
    "driver = webdriver.Chrome('./chromedriver/chromedriver')\n",
    "driver.get('https://tixcraft.com/activity/detail/23_tvl')\n",
    "'''\n",
    "#driver.find_element_by_xpath('//*[@id=\"onetrust-accept-btn-handler\"]').click()\n",
    "#driver.implicitly_wait(1)\n",
    "driver.find_element_by_xpath('//*[@id=\"bs-navbar\"]/div/div[2]/ul[3]/li/a/span').click()\n",
    "time.sleep(0.2)\n",
    "driver.find_element_by_xpath('//*[@id=\"facebook\"]').click()\n",
    "\n",
    "#time.sleep(1)\n",
    "account = driver.find_element_by_xpath('//*[@id=\"email\"]')\n",
    "account.clear()\n",
    "account.send_keys('cindy1999881114@gmail.com')\n",
    "password = driver.find_element_by_xpath('//*[@id=\"pass\"]')\n",
    "password.clear()\n",
    "password.send_keys('chenyingshan19991114')\n",
    "driver.find_element_by_xpath('//*[@id=\"loginbutton\"]').click()\n",
    "'''\n",
    "#driver.implicitly_wait(0.5)\n",
    "element1 = driver.find_element_by_class_name(\"buy\")\n",
    "driver.implicitly_wait(0.7)\n",
    "driver.execute_script(\"arguments[0].scrollIntoView();\", element1)\n",
    "time.sleep(0.5)\n",
    "element1.click()\n",
    "\n",
    "driver.implicitly_wait(1)\n",
    "element2 = driver.find_element_by_xpath('//*[@id=\"gameList\"]/table/tbody/tr[28]/td[4]/button')\n",
    "driver.execute_script(\"arguments[0].click();\", element2)\n",
    "\n",
    "driver.find_element_by_xpath('//*[@id=\"15290_1\"]').click()\n",
    "#driver.find_element_by_xpath('//*[@id=\"15290_2\"]').click()\n",
    "\n",
    "driver.find_element_by_xpath('//*[@id=\"TicketForm_ticketPrice_02\"]/option[3]').click()\n"
   ]
  }
 ],
 "metadata": {
  "kernelspec": {
   "display_name": "crawler",
   "language": "python",
   "name": "python3"
  },
  "language_info": {
   "codemirror_mode": {
    "name": "ipython",
    "version": 3
   },
   "file_extension": ".py",
   "mimetype": "text/x-python",
   "name": "python",
   "nbconvert_exporter": "python",
   "pygments_lexer": "ipython3",
   "version": "3.7.12"
  }
 },
 "nbformat": 4,
 "nbformat_minor": 2
}
